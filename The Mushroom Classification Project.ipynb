{
 "cells": [
  {
   "cell_type": "markdown",
   "metadata": {},
   "source": [
    "#  The Mushroom Classification Project"
   ]
  },
  {
   "cell_type": "markdown",
   "metadata": {},
   "source": [
    " The goal of this dataset is to classify between edible (e) to poisonous (p) mushrooms."
   ]
  },
  {
   "cell_type": "markdown",
   "metadata": {},
   "source": [
    "Let's first import the libraries we need, and import the data"
   ]
  },
  {
   "cell_type": "code",
   "execution_count": 1,
   "metadata": {},
   "outputs": [],
   "source": [
    "from pandas import read_csv, get_dummies, Series\n",
    "from sklearn.preprocessing import LabelEncoder\n",
    "from sklearn.model_selection import train_test_split,KFold, cross_val_score\n",
    "from sklearn.metrics import accuracy_score\n",
    "from sklearn.metrics import classification_report\n",
    "from sklearn.metrics import confusion_matrix\n",
    "from matplotlib import pyplot\n",
    "\n",
    "\"\"\"Importing the Classification Algorithms\"\"\"\n",
    "\n",
    "from sklearn.linear_model import LogisticRegression\n",
    "from sklearn.tree import DecisionTreeClassifier\n",
    "from sklearn.neighbors import KNeighborsClassifier\n",
    "from sklearn.naive_bayes import GaussianNB\n",
    "from sklearn.svm import SVC\n",
    "\n",
    "filename = 'mushrooms.csv'\n",
    "Dataset = read_csv(filename)"
   ]
  },
  {
   "cell_type": "markdown",
   "metadata": {},
   "source": [
    "The list and types of the features is:"
   ]
  },
  {
   "cell_type": "code",
   "execution_count": 2,
   "metadata": {},
   "outputs": [],
   "source": [
    "Types = Dataset.dtypes\n",
    "Values_Table = Dataset.count()"
   ]
  },
  {
   "cell_type": "code",
   "execution_count": 3,
   "metadata": {},
   "outputs": [
    {
     "name": "stdout",
     "output_type": "stream",
     "text": [
      "class                       object\n",
      "cap-shape                   object\n",
      "cap-surface                 object\n",
      "cap-color                   object\n",
      "bruises                     object\n",
      "odor                        object\n",
      "gill-attachment             object\n",
      "gill-spacing                object\n",
      "gill-size                   object\n",
      "gill-color                  object\n",
      "stalk-shape                 object\n",
      "stalk-root                  object\n",
      "stalk-surface-above-ring    object\n",
      "stalk-surface-below-ring    object\n",
      "stalk-color-above-ring      object\n",
      "stalk-color-below-ring      object\n",
      "veil-type                   object\n",
      "veil-color                  object\n",
      "ring-number                 object\n",
      "ring-type                   object\n",
      "spore-print-color           object\n",
      "population                  object\n",
      "habitat                     object\n",
      "dtype: object\n"
     ]
    }
   ],
   "source": [
    "print(Types)"
   ]
  },
  {
   "cell_type": "code",
   "execution_count": 4,
   "metadata": {},
   "outputs": [
    {
     "name": "stdout",
     "output_type": "stream",
     "text": [
      "class                       8124\n",
      "cap-shape                   8124\n",
      "cap-surface                 8124\n",
      "cap-color                   8124\n",
      "bruises                     8124\n",
      "odor                        8124\n",
      "gill-attachment             8124\n",
      "gill-spacing                8124\n",
      "gill-size                   8124\n",
      "gill-color                  8124\n",
      "stalk-shape                 8124\n",
      "stalk-root                  8124\n",
      "stalk-surface-above-ring    8124\n",
      "stalk-surface-below-ring    8124\n",
      "stalk-color-above-ring      8124\n",
      "stalk-color-below-ring      8124\n",
      "veil-type                   8124\n",
      "veil-color                  8124\n",
      "ring-number                 8124\n",
      "ring-type                   8124\n",
      "spore-print-color           8124\n",
      "population                  8124\n",
      "habitat                     8124\n",
      "dtype: int64\n"
     ]
    }
   ],
   "source": [
    "print(Values_Table)"
   ]
  },
  {
   "cell_type": "markdown",
   "metadata": {},
   "source": [
    "Checking if there are any missing values"
   ]
  },
  {
   "cell_type": "code",
   "execution_count": 5,
   "metadata": {},
   "outputs": [
    {
     "name": "stdout",
     "output_type": "stream",
     "text": [
      "class                       0\n",
      "cap-shape                   0\n",
      "cap-surface                 0\n",
      "cap-color                   0\n",
      "bruises                     0\n",
      "odor                        0\n",
      "gill-attachment             0\n",
      "gill-spacing                0\n",
      "gill-size                   0\n",
      "gill-color                  0\n",
      "stalk-shape                 0\n",
      "stalk-root                  0\n",
      "stalk-surface-above-ring    0\n",
      "stalk-surface-below-ring    0\n",
      "stalk-color-above-ring      0\n",
      "stalk-color-below-ring      0\n",
      "veil-type                   0\n",
      "veil-color                  0\n",
      "ring-number                 0\n",
      "ring-type                   0\n",
      "spore-print-color           0\n",
      "population                  0\n",
      "habitat                     0\n",
      "dtype: int64\n"
     ]
    }
   ],
   "source": [
    "Missing_Values_Table = Dataset.isnull().sum() \n",
    "print(Missing_Values_Table)"
   ]
  },
  {
   "cell_type": "markdown",
   "metadata": {},
   "source": [
    "Looks like nothing is missing"
   ]
  },
  {
   "cell_type": "markdown",
   "metadata": {},
   "source": [
    "## The Encoding Part"
   ]
  },
  {
   "cell_type": "markdown",
   "metadata": {},
   "source": [
    "All the data is categorical, so encoding is required"
   ]
  },
  {
   "cell_type": "code",
   "execution_count": 6,
   "metadata": {},
   "outputs": [],
   "source": [
    "encoder = LabelEncoder()"
   ]
  },
  {
   "cell_type": "markdown",
   "metadata": {},
   "source": [
    "I'm going to put the class column in a temporary variable and drop it"
   ]
  },
  {
   "cell_type": "code",
   "execution_count": 7,
   "metadata": {},
   "outputs": [],
   "source": [
    "temp = Dataset['class']\n",
    "Dataset = Dataset.drop(['class'], axis=1)"
   ]
  },
  {
   "cell_type": "markdown",
   "metadata": {},
   "source": [
    "And then I'm going to apply the hot encoder"
   ]
  },
  {
   "cell_type": "code",
   "execution_count": 8,
   "metadata": {},
   "outputs": [],
   "source": [
    "Dataset = get_dummies(Dataset)"
   ]
  },
  {
   "cell_type": "markdown",
   "metadata": {},
   "source": [
    "and then reinsert he class colum because this one requires a LabelEncoder"
   ]
  },
  {
   "cell_type": "code",
   "execution_count": 9,
   "metadata": {},
   "outputs": [],
   "source": [
    "Dataset['class']=temp\n",
    "Dataset['class']=encoder.fit_transform(Dataset['class'])"
   ]
  },
  {
   "cell_type": "markdown",
   "metadata": {},
   "source": [
    "## The machine learning Part"
   ]
  },
  {
   "cell_type": "code",
   "execution_count": 10,
   "metadata": {},
   "outputs": [],
   "source": [
    "array = Dataset.values\n",
    "X = array[:,0:-1]\n",
    "Y = array[:,-1]\n",
    "\n",
    "validation_size = 0.2\n",
    "seed = 7\n",
    "\n",
    "X_train, X_validation, Y_train, Y_validation = train_test_split(X, Y,\n",
    "        test_size=validation_size, random_state=seed)"
   ]
  },
  {
   "cell_type": "code",
   "execution_count": 11,
   "metadata": {},
   "outputs": [
    {
     "name": "stdout",
     "output_type": "stream",
     "text": [
      "LR: 1.0, 0.0\n",
      "KNN: 1.0, 0.0\n",
      "CART: 1.0, 0.0\n",
      "NB: 0.9556840109043498, 0.008868151093461476\n",
      "SVM: 0.9978459167950694, 0.0010203572261229083\n"
     ]
    }
   ],
   "source": [
    "# prepare models\n",
    "models = []\n",
    "models.append(('LR', LogisticRegression(solver = 'liblinear')))\n",
    "models.append(('KNN', KNeighborsClassifier()))\n",
    "models.append(('CART', DecisionTreeClassifier()))\n",
    "models.append(('NB', GaussianNB()))\n",
    "models.append(('SVM', SVC(gamma = 'auto')))\n",
    "\n",
    "# Evaluate each model in turn\n",
    "\n",
    "results = []\n",
    "names = []\n",
    "n_folds = 10\n",
    "scoring = 'accuracy'\n",
    "for name,model in models:\n",
    "    kfold = KFold(n_splits = n_folds, random_state = seed)\n",
    "    cv_results = cross_val_score(model, X_train, Y_train, cv=kfold, scoring=scoring)\n",
    "    results.append(cv_results)\n",
    "    names.append(name)\n",
    "    print(f'{name}: {cv_results.mean()}, {cv_results.std()}')"
   ]
  },
  {
   "cell_type": "code",
   "execution_count": 12,
   "metadata": {},
   "outputs": [
    {
     "name": "stdout",
     "output_type": "stream",
     "text": [
      "1.0\n",
      "[[840   0]\n",
      " [  0 785]]\n",
      "              precision    recall  f1-score   support\n",
      "\n",
      "           0       1.00      1.00      1.00       840\n",
      "           1       1.00      1.00      1.00       785\n",
      "\n",
      "   micro avg       1.00      1.00      1.00      1625\n",
      "   macro avg       1.00      1.00      1.00      1625\n",
      "weighted avg       1.00      1.00      1.00      1625\n",
      "\n",
      "(1, 117)\n"
     ]
    }
   ],
   "source": [
    "# prepare the model\n",
    "model = LogisticRegression(solver = 'liblinear')\n",
    "model.fit(X_train, Y_train)\n",
    "# estimate accuracy on validation dataset\n",
    "predictions = model.predict(X_validation)\n",
    "print(accuracy_score(Y_validation, predictions))\n",
    "print(confusion_matrix(Y_validation, predictions))\n",
    "print(classification_report(Y_validation, predictions))\n",
    "\n",
    "print((model.coef_).shape)"
   ]
  },
  {
   "cell_type": "code",
   "execution_count": null,
   "metadata": {},
   "outputs": [],
   "source": []
  }
 ],
 "metadata": {
  "kernelspec": {
   "display_name": "Python 3",
   "language": "python",
   "name": "python3"
  },
  "language_info": {
   "codemirror_mode": {
    "name": "ipython",
    "version": 3
   },
   "file_extension": ".py",
   "mimetype": "text/x-python",
   "name": "python",
   "nbconvert_exporter": "python",
   "pygments_lexer": "ipython3",
   "version": "3.7.3"
  }
 },
 "nbformat": 4,
 "nbformat_minor": 2
}
